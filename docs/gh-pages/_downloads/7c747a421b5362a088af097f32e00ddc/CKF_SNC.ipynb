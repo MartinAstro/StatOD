{
  "cells": [
    {
      "cell_type": "code",
      "execution_count": null,
      "metadata": {
        "collapsed": false
      },
      "outputs": [],
      "source": [
        "%matplotlib inline"
      ]
    },
    {
      "cell_type": "markdown",
      "metadata": {},
      "source": [
        "\n# Kalman Filter with Stochastic Noise Compensation Example\n"
      ]
    },
    {
      "cell_type": "code",
      "execution_count": null,
      "metadata": {
        "collapsed": false
      },
      "outputs": [],
      "source": [
        "import time\nimport pickle\nimport numpy as np\nimport matplotlib.pyplot as plt\nimport StatOD\nfrom StatOD.data import get_measurements\nfrom StatOD.dynamics import dynamics, f_J2, get_Q, process_noise\nfrom StatOD.filters import FilterLogger, KalmanFilter\nfrom StatOD.measurements import h_rho_rhod, measurements\nfrom StatOD.visualizations import *\nfrom StatOD.constants import *"
      ]
    },
    {
      "cell_type": "markdown",
      "metadata": {},
      "source": [
        "To begin, gather the telemetry / measurements\nthat will be used by the filter to update the state. In this example, the \ntelemetry is the range and range-rate in kilometers of spacecraft in orbit \nwhose dynamics include a point mass and $J_2$ gravity contribution. \n\nNote that the telemetry is measured by three stations on the surface of Earth.\nThe `get_measurements` function evolves the location of these stations in the \nEarth-Centered Inertial (ECI) frame and returns it alongside the time and\nrange/range-rate measurements (`t, Y`). \n\n"
      ]
    },
    {
      "cell_type": "code",
      "execution_count": null,
      "metadata": {
        "collapsed": false
      },
      "outputs": [],
      "source": [
        "t, Y, X_stations_ECI = get_measurements(\"Data/Measurements/range_rangerate_w_J2_w_noise.data\")\n\n# Reduce the simulation length for faster evaluation. \nM_end = len(t) // 5\nt = t[:M_end]\nY = Y[:M_end]"
      ]
    },
    {
      "cell_type": "markdown",
      "metadata": {},
      "source": [
        "Initialize the starting state $(x, y, z, v_x, v_y, v_z)$ \nin [km] and [km/s] respectively and then add an initial perturbation (`dx0`).\nAlso initialize the initial state and measurement covariance (`P0` and `R0`). \nThe measurements included gaussian noise on the order of 1 meter in range and\n1 mm/s in range rate, hence the choice of diagonals for the measurement covariance `R0`.  \n\n"
      ]
    },
    {
      "cell_type": "code",
      "execution_count": null,
      "metadata": {
        "collapsed": false
      },
      "outputs": [],
      "source": [
        "ep = EarthParams()\ncart_state = np.array([-3515.4903270335103, 8390.716310243395, 4127.627352553683,\n                        -4.357676322178153, -3.3565791387645487, 3.111892927869902])\n                                \ndx0 = np.array([0.1, 0.0, 0.0, 1E-4, 0.0, 0.0]) \nx0 = cart_state + dx0\n\nP0 = np.diag([1, 1, 1, 1E-3, 1E-3, 1E-3])**2 \nR0 = np.diag([1E-3, 1E-6])**2\nt0 = 0.0"
      ]
    },
    {
      "cell_type": "markdown",
      "metadata": {},
      "source": [
        "In this example, stochastic noise compensation is used. The process noise matrix\n$Q_0$ is defined below. \n\nBecause the continuous time process noise is different than the discrete process noise matrix\na process noise function must be defined (`Q_fcn`). This function is computed using `sympy` to \ncompute an exact symbolic expression on the fly to accommodate any arbitrary estimation scenario. \nThis symbolic expression is then lambdified to be used within the filter. This process is repeated \nfor the dynamics and measurement functions. \n\nAs such, users must pass representative values of the state and any auxillary arguments to the generating\nfunction `process_noise`.  \n\n"
      ]
    },
    {
      "cell_type": "code",
      "execution_count": null,
      "metadata": {
        "collapsed": false
      },
      "outputs": [],
      "source": [
        "Q0 = np.eye(3) * 1e-7 ** 2\nQ_args = []\nQ_fcn = process_noise(x0, Q0, get_Q, Q_args, use_numba=False)"
      ]
    },
    {
      "cell_type": "markdown",
      "metadata": {},
      "source": [
        "Likewise, the dynamics and measurement functions must be computed symbolically and then lambdified.\nA collection of dynamics function are provided within the `StatOD.Dynamics` file. In this example\nthe spacecraft's dynamics are influenced only by point mass gravity and $J_2$. Therefore, the \n`f_J2` symbolic expression is selected, and passed to the generating function `dynamics` alongside\nthe additional arguments not included in the state that are needed for the dynamics function (`f_args`).\n\nThe measurement functions are generated the same way, passing in a representative state and \nadditional arguments into the generating function such that a lambdified symbolic expression\ncan be produced and passed to the filter.\n\n"
      ]
    },
    {
      "cell_type": "code",
      "execution_count": null,
      "metadata": {
        "collapsed": false
      },
      "outputs": [],
      "source": [
        "f_args = np.array([ep.R, ep.mu, ep.J2])\nf, dfdx = dynamics(x0, f_J2, f_args)\nf_dict = {\n    \"f\": f,\n    \"dfdx\": dfdx,\n    \"f_args\": f_args,\n    \"Q_fcn\": Q_fcn,\n    \"Q\": Q0,\n    \"Q_args\": Q_args,\n}\n\nh_args = X_stations_ECI[0]\nh, dhdx = measurements(x0, h_rho_rhod, h_args)\nh_dict = {'h': h, 'dhdx': dhdx, 'h_args': h_args}"
      ]
    },
    {
      "cell_type": "markdown",
      "metadata": {},
      "source": [
        "Now that the lambdified symbolic measurement and dynamics functions are produced, \nthe auxiallary arguments not included in the state should be gathered for each measurement.\nFor the dynamics model, this means passing in the fixed parameters $(R, \\mu, J_2)$ at each \ntime step. For the measurement function, this includes the stations position in the ECI frame.\n\n"
      ]
    },
    {
      "cell_type": "code",
      "execution_count": null,
      "metadata": {
        "collapsed": false
      },
      "outputs": [],
      "source": [
        "f_args_vec = np.full((len(t), len(f_args)), f_args)\nh_args_vec = X_stations_ECI\nR_vec = np.repeat(np.array([R0]), len(t), axis=0)"
      ]
    },
    {
      "cell_type": "markdown",
      "metadata": {},
      "source": [
        "To initialize the filter, pass in the initial parameters and corresponding generating functions.\nWith the filter initialized, call the `.run()` command with the vectors of time, measurements, \nmeasurement covariances, dynamics and measurement auxillary arguments. \n\n"
      ]
    },
    {
      "cell_type": "code",
      "execution_count": null,
      "metadata": {
        "collapsed": false
      },
      "outputs": [],
      "source": [
        "start_time = time.time()\nlogger = FilterLogger(len(x0), len(t))\nfilter = KalmanFilter(t0, x0, dx0, P0, f_dict, h_dict, logger=logger)\nfilter.run(t, Y[:,1:], R_vec, f_args_vec, h_args_vec)\nprint(\"Time Elapsed: \" + str(time.time() - start_time))"
      ]
    },
    {
      "cell_type": "markdown",
      "metadata": {},
      "source": [
        "After the filter finishes, the corresponding state pre- and post- measurement updates are saved\nin the `filter.logger` attribute. These can be used to produce the measurement residuals which \ncan then be plotted. \n\n"
      ]
    },
    {
      "cell_type": "code",
      "execution_count": null,
      "metadata": {
        "collapsed": false
      },
      "outputs": [],
      "source": [
        "package_dir = os.path.dirname(StatOD.__file__) + \"/../\"\nwith open(package_dir + 'Data/Trajectories/trajectory_J2.data', 'rb') as f:\n    traj_data = pickle.load(f)\n\nx_truth = traj_data['X'][:M_end]\ny_hat_vec = np.zeros((len(t), 2))\nfor i in range(len(t)):\n    y_hat_vec[i] = filter.predict_measurement(logger.x_i[i], logger.dx_i_plus[i], h_args_vec[i])\n\ndirectory = \"Plots/\" + filter.__class__.__name__ + \"/\"\ny_labels = np.array([r'$\\rho$', r'$\\dot{\\rho}$'])\nvis = VisualizationBase(logger, directory, False)\nvis.plot_state_errors(x_truth)\nvis.plot_residuals(Y[:,1:], y_hat_vec, R_vec, y_labels)\nplt.show()"
      ]
    }
  ],
  "metadata": {
    "kernelspec": {
      "display_name": "Python 3",
      "language": "python",
      "name": "python3"
    },
    "language_info": {
      "codemirror_mode": {
        "name": "ipython",
        "version": 3
      },
      "file_extension": ".py",
      "mimetype": "text/x-python",
      "name": "python",
      "nbconvert_exporter": "python",
      "pygments_lexer": "ipython3",
      "version": "3.8.2"
    }
  },
  "nbformat": 4,
  "nbformat_minor": 0
}