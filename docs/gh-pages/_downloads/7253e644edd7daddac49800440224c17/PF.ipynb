{
  "cells": [
    {
      "cell_type": "code",
      "execution_count": null,
      "metadata": {
        "collapsed": false
      },
      "outputs": [],
      "source": [
        "%matplotlib inline"
      ]
    },
    {
      "cell_type": "markdown",
      "metadata": {},
      "source": [
        "\n# Particle Filter Example\n"
      ]
    },
    {
      "cell_type": "code",
      "execution_count": null,
      "metadata": {
        "collapsed": false
      },
      "outputs": [],
      "source": [
        "import os\nimport sys\nimport time\nimport copy\nimport matplotlib.pyplot as plt\nimport matplotlib\nimport numpy as np\nfrom scipy.integrate import solve_ivp\nfrom StatOD.data import get_example8_measurements, get_measurements\nfrom StatOD.dynamics import *\nfrom StatOD.filters import *\nfrom StatOD.measurements import *\nfrom StatOD.rotations import ECI_2_RCI\nfrom StatOD.utils import ECEF_2_ECI, latlon2cart\nfrom StatOD.visualizations import *\nfrom StatOD.constants import * \n\nnp.random.seed(1234)\n\n\n\ndef main():\n   \n    ######################\n    ## Get Measurements ##\n    ######################\n    numba = True\n    t, Y, x_truth, y_truth = get_example8_measurements(case=1)\n\n    t0 = t[0]\n    M_end = len(t) // 5\n\n    t = t[:M_end]\n    Y = Y[:M_end]\n\n    ######################\n    ## Set Parameters   ##\n    ######################\n    k = 1\n    eta = 1000\n    L = 5000 # particles\n\n    ##############################\n    ## Set State and Covariance ##\n    ##############################\n\n    x0 = np.array([0.0, 1.0])\n    dx0 = np.array([0.0, 0.0])\n    x0 += dx0\n\n    P_diag = np.array(\n        [0.2, 0.2]\n    )**2\n    R_diag = np.array([0.1]) ** 2\n\n    P_0 = np.diag(P_diag)\n    R0 = np.diag(R_diag)\n\n    R_vec = np.full((len(t), R0.shape[0], R0.shape[1]), R0)\n\n    ########################\n    ## Configure Dynamics ##\n    ########################\n\n    c_args = np.array([k, eta])\n    f, dfdx = dynamics(x0, f_spring_duffing, c_args, use_numba=numba)\n\n    h_args = np.array([])\n    h, dhdx = measurements(x0, spring_observation_1, h_args)\n\n    Q_args = []\n    Q0 = np.eye(2) * 1e-1 ** 2\n    Q_fcn = process_noise(x0, Q0, get_Q, Q_args, use_numba=False)\n\n    ######################\n    ## Configure Filter ##\n    ######################\n\n    # Initialize\n    f_dict = {\n        \"f\": f,\n        \"dfdx\": dfdx,\n        \"f_args\": c_args,\n        \"Q_fcn\": Q_fcn,\n        \"Q\": Q0,\n        \"Q_args\": Q_args,\n    }\n\n    h_dict = {\"h\": h, \n              \"dhdx\": dhdx,\n              \"h_args\": h_args,\n              }\n\n    start_time = time.time()\n    logger = FilterLogger(len(x0), len(t))\n    filter = ExtendedKalmanFilter(t0, x0, dx0, P_0, f_dict, h_dict, logger=logger)\n    filter.run(t, Y, R_vec, np.full(len(t), None), np.empty((len(t),0)))\n\n    print(\"Time Elapsed: \" + str(time.time() - start_time))\n\n\n    ###############################\n    ## Configure Particle Filter ##\n    ###############################\n    x_0_k = np.random.uniform(-2,2,size=(L,2))\n\n    start_time = time.time()\n    logger = FilterLogger(len(x0), len(t))\n    filter = ParticleFilter(t0, x_0_k, f_dict, h_dict, logger=logger)\n    filter.run(t, Y, R_vec, np.full(len(t), None), np.empty((len(t),0)))\n\n    print(\"Time Elapsed: \" + str(time.time() - start_time))\n\n    ##############\n    ## Plotting ##\n    ##############\n\n\n    plt.figure()\n    plt.scatter(filter.x_i_m1[:,0], filter.x_i_m1[:,1], s=2)\n    plt.ylabel(r\"$\\dot{x}$\")\n    plt.xlabel(r\"$x$\")\n    plt.show()\n\n\nif __name__ == \"__main__\":\n    main()"
      ]
    }
  ],
  "metadata": {
    "kernelspec": {
      "display_name": "Python 3",
      "language": "python",
      "name": "python3"
    },
    "language_info": {
      "codemirror_mode": {
        "name": "ipython",
        "version": 3
      },
      "file_extension": ".py",
      "mimetype": "text/x-python",
      "name": "python",
      "nbconvert_exporter": "python",
      "pygments_lexer": "ipython3",
      "version": "3.8.2"
    }
  },
  "nbformat": 4,
  "nbformat_minor": 0
}