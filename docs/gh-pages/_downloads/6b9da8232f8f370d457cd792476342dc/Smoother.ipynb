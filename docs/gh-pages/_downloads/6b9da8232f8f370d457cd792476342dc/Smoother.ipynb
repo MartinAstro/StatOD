{
  "cells": [
    {
      "cell_type": "code",
      "execution_count": null,
      "metadata": {
        "collapsed": false
      },
      "outputs": [],
      "source": [
        "%matplotlib inline"
      ]
    },
    {
      "cell_type": "markdown",
      "metadata": {},
      "source": [
        "\n# Kalman Filter with Smoother Example\n"
      ]
    },
    {
      "cell_type": "code",
      "execution_count": null,
      "metadata": {
        "collapsed": false
      },
      "outputs": [],
      "source": [
        "import os\nimport pickle\nimport sys\nimport time\nimport copy\nimport matplotlib.pyplot as plt\nimport numpy as np\nfrom scipy.integrate import solve_ivp\nimport StatOD\nfrom StatOD.constants import EarthParams\nfrom StatOD.data import get_measurements\nfrom StatOD.dynamics import dynamics, f_J2, get_Q, process_noise, f_J3\nfrom StatOD.filters import FilterLogger, KalmanFilter, NonLinearBatchFilter, Smoother\nfrom StatOD.measurements import h_rho_rhod, measurements\nfrom StatOD.visualizations import *\n\n\n\n\ndef main():\n    ep = EarthParams()\n    cart_state = np.array([-3515.4903270335103, 8390.716310243395, 4127.627352553683,\n                           -4.357676322178153, -3.3565791387645487, 3.111892927869902])\n                                  \n    t, Y, X_stations_ECI = get_measurements(\"Data/Measurements/range_rangerate_w_J2_w_noise.data\")\n\n    # Decrease scenario length\n    M_end = len(t) // 5\n    t = t[:M_end]\n    Y = Y[:M_end]\n\n    # Initialize state and filter parameters\n    dx0 = np.array([0.1, 0.0, 0.0, 1E-4, 0.0, 0.0]) \n    x0 = cart_state + (dx0 / 10)\n\n    P_diag = np.array([1, 1, 1, 1E-3, 1E-3, 1E-3])**2\n    R_diag = np.array([1E-3, 1E-6])**2\n    P0 = np.diag(P_diag) \n    R0 = np.diag(R_diag)\n    t0 = 0.0\n\n    # Initialize Process Noise\n    Q0 = np.eye(3) * 1e-7 ** 2\n    Q_args = []\n    # Q_fcn = process_noise(x0, Q0, get_Q, Q_args, use_numba=False)\n    Q_fcn = None\n\n    # Initialize Dynamics and Measurements\n    f_args = np.array([ep.R, ep.mu, ep.J2])\n    f, dfdx = dynamics(x0, f_J2, f_args)\n    f_dict = {\n        \"f\": f,\n        \"dfdx\": dfdx,\n        \"f_args\": f_args,\n        \"Q_fcn\": Q_fcn,\n        \"Q\": Q0,\n        \"Q_args\": Q_args,\n    }\n\n    h_args = X_stations_ECI[0]\n    h, dhdx = measurements(x0, h_rho_rhod, h_args)\n    h_dict = {'h': h, 'dhdx': dhdx, 'h_args': h_args}\n\n    #########################\n    # Generate f/h_args_vec #\n    #########################\n\n    f_args_vec = np.full((len(t), len(f_args)), f_args)\n    h_args_vec = X_stations_ECI\n    R_vec = np.repeat(np.array([R0]), len(t), axis=0)\n\n\n    start_time = time.time()\n    logger = FilterLogger(len(x0), len(t))\n    filter = KalmanFilter(t0, x0, dx0, P0, f_dict, h_dict, logger=logger)\n    filter.run(t, Y[:,1:], R_vec, f_args_vec, h_args_vec)\n    print(\"Time Elapsed: \" + str(time.time() - start_time))\n\n    ################\n    # Run Smoother #\n    ################\n\n    # NOTE: The Smoother accounts for process noise\n\n    # Run smoother on the CKF output\n    smoother = Smoother(filter.logger)\n    smoother.update()\n\n    ############\n    # Run NLBF #\n    ############\n\n    # NOTE: The NLBF cannot account for process noise\n\n    logger = FilterLogger(len(x0), len(t))\n    NLBFilter = NonLinearBatchFilter(t0, x0, dx0, P0, f_dict, h_dict, logger, iterations=1)\n    start_time = time.time()\n    NLBFilter.run(t, Y[:,1:], R_vec, f_args_vec, h_args_vec, tol=1E-7)\n    print(\"Time Elapsed: \" + str(time.time() - start_time))\n\n\n    ############\n    # Plotting #\n    ############\n    package_dir = os.path.dirname(StatOD.__file__) + \"/../\"\n    with open(package_dir + 'Data/Trajectories/trajectory_J2.data', 'rb') as f:\n        traj_data = pickle.load(f)\n\n    x_truth = traj_data['X'][:M_end]\n\n    # CKF State Errors\n    vis = VisualizationBase(filter.logger)\n    vis.plot_state_errors(x_truth)\n\n    # Smoother State Errors\n    vis = VisualizationBase(smoother.logger)\n    vis.plot_state_errors(x_truth)\n\n    # NLB Filter State Errors\n    vis = VisualizationBase(NLBFilter.logger)\n    vis.plot_state_errors(x_truth)\n\n\n    plt.show()\n\n\nif __name__ == \"__main__\":\n    main()"
      ]
    }
  ],
  "metadata": {
    "kernelspec": {
      "display_name": "Python 3",
      "language": "python",
      "name": "python3"
    },
    "language_info": {
      "codemirror_mode": {
        "name": "ipython",
        "version": 3
      },
      "file_extension": ".py",
      "mimetype": "text/x-python",
      "name": "python",
      "nbconvert_exporter": "python",
      "pygments_lexer": "ipython3",
      "version": "3.8.2"
    }
  },
  "nbformat": 4,
  "nbformat_minor": 0
}