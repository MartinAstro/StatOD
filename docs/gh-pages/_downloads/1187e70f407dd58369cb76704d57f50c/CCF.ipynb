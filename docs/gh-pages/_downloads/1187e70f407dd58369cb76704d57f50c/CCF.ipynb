{
  "cells": [
    {
      "cell_type": "code",
      "execution_count": null,
      "metadata": {
        "collapsed": false
      },
      "outputs": [],
      "source": [
        "%matplotlib inline"
      ]
    },
    {
      "cell_type": "markdown",
      "metadata": {},
      "source": [
        "\n# Consider Covariance Filter Example\n"
      ]
    },
    {
      "cell_type": "code",
      "execution_count": null,
      "metadata": {
        "collapsed": false
      },
      "outputs": [],
      "source": [
        "import os\nimport sys\nimport time\nimport copy\nimport matplotlib.pyplot as plt\nimport numpy as np\nfrom scipy.integrate import solve_ivp\nfrom StatOD.data import get_measurements\nfrom StatOD.dynamics import *\nfrom StatOD.filters import FilterLogger, SequentialConsiderCovarianceFilter\nfrom StatOD.measurements import *\nfrom StatOD.rotations import ECI_2_RCI\nfrom StatOD.utils import ECEF_2_ECI, latlon2cart\nfrom StatOD.visualizations import *\nfrom StatOD.constants import * \n\n\ndef get_true_trajectory(t, mu, R, cart_state, include_J3=False):\n     from StatOD.dynamics import dynamics, f_J3\n     from scipy.integrate import solve_ivp\n\n     J2 = 0.001082626925638815\n     J3 = -1.61 * 10 ** -6\n     f_J3_args = np.array([R, mu, J2, J3])\n     f_J3_fcn, dfdx_J3 = dynamics(cart_state, f_J3, f_J3_args)\n     init_sol = solve_ivp(\n          lambda t, x: f_J3_fcn(x, f_J3_args),\n          [0, t[-1]],\n          cart_state,\n          atol=1e-14,\n          rtol=2.23e-14,\n          t_eval=t,\n          method=\"RK45\",\n     )\n     x_original = init_sol.y.T\n     if include_J3:\n          x_original = np.hstack((x_original, np.ones((len(x_original),1))*mu, np.ones((len(x_original),1))*J2, np.ones((len(x_original),1))*J3))\n     else:\n          x_original = np.hstack((x_original, np.ones((len(x_original),1))*mu, np.ones((len(x_original),1))*J2))\n     return x_original\n\n\ndef main():\n   \n    ######################\n    ## Get Measurements ##\n    ######################\n    ep = EarthParams()\n    cart_state = np.array([-3515.4903270335103, 8390.716310243395, 4127.627352553683,\n                           -4.357676322178153, -3.3565791387645487, 3.111892927869902])\n                                  \n    t, Y, X_stations_ECI = get_measurements(\"Data/Measurements/range_rangerate_w_J3_w_noise.data\")\n\n    t0 = 0.0\n    M_end = len(t) // 5\n\n    t = t[:M_end]\n    Y = Y[:M_end]\n\n\n\n\n    ##############################\n    ## Set State and Covariance ##\n    ##############################\n\n    x0 = copy.deepcopy(cart_state)\n    x0 = np.hstack((x0, [ep.mu, ep.J2]))\n    dx0 = np.array([0.0, 0.0, 0.0, 0.0, 0.0, 0.0, 0.0, 0.0])\n    x0 += dx0\n\n    c0 = np.array([0.0])\n    dc0 = np.array([ep.J3])\n\n    sigma_r = (1E4 / 1E3) ** 2  \n    sigma_r_dot = (1E4 / 1E3) ** 2\n    sigma_mu = (1E4 / 1E3) ** 2  \n    sigma_J2 = (1E4 / 1E3) ** 2\n    P_xx_diag = np.array(\n        [sigma_r, sigma_r, sigma_r, \n        sigma_r_dot, sigma_r_dot, sigma_r_dot,\n        sigma_mu, sigma_J2]\n    )\n    P_cc_diag = np.array([ep.J3**2])\n    R_diag = np.array([1e-3, 1e-6]) ** 2\n\n    P_xx_0 = np.diag(P_xx_diag)\n    P_cc_0 = np.diag(P_cc_diag)\n    R0 = np.diag(R_diag)\n\n    ########################\n    ## Configure Dynamics ##\n    ########################\n\n    c_args = np.array([ep.R, 0.0])\n    f_consider_mask = np.array([0,1])\n    f, dfdx, dfdc = dynamics(x0, f_consider_J3, c_args, consider=f_consider_mask, use_numba=True)\n\n    h_args = X_stations_ECI[0]\n    h_args = np.append(h_args, c_args)\n    h_consider_mask = np.array([0,0,0,0,0,0,0,1])\n    h, dhdx, dhdc = measurements(x0, h_rho_rhod, h_args, consider=h_consider_mask)\n\n    Q_args = []\n    Q0 = np.eye(3) * 5e-8 ** 2\n    Q_fcn = None\n\n    R_vec = np.repeat(np.array([R0]), len(t), axis=0)\n\n    ######################\n    ## Configure Filter ##\n    ######################\n\n    # Initialize\n    f_dict = {\n        \"f\": f,\n        \"dfdx\": dfdx,\n        \"dfdc\": dfdc,\n        \"f_args\": c_args,\n        \"f_consider_mask\" : f_consider_mask,\n        \"Q_fcn\": Q_fcn,\n        \"Q\": Q0,\n        \"Q_args\": Q_args,\n    }\n\n    h_dict = {\"h\": h, \n              \"dhdx\": dhdx,\n              \"dhdc\": dhdc,\n              \"h_args\": h_args,\n              \"h_consider_mask\" : h_consider_mask,\n              }\n\n    start_time = time.time()\n    logger = FilterLogger(len(x0), len(t), len(c0))\n    filter = SequentialConsiderCovarianceFilter(t0, x0, dx0, c0, dc0, P_xx_0, P_cc_0, f_dict, h_dict, logger=logger)\n    f_args_vec = np.full((len(t), len(c_args)), c_args)\n    h_args_vec = X_stations_ECI\n    filter.run(t, Y[:,1:], R_vec, f_args_vec, h_args_vec, h_args_append=c_args)\n    print(\"Time Elapsed: \" + str(time.time() - start_time))\n\n    ##############\n    ## Plotting ##\n    ##############\n    x_original = get_true_trajectory(t, ep.mu, ep.R, cart_state, include_J3=True)\n\n    y_labels = np.array([\"$x$\", \"$y$\", \"$z$\", \"$v_x$\", \"$v_y$\", \"$v_z$\", \"$\\mu$\", \"$J_2$\", \"$J_3$\"])\n    dX_RMS = plot_state_residual_and_covariance_consider(\n        logger.t_i,\n        filter.logger.x_hat_i_plus,\n        x_original[:,:8],\n        y_labels,\n        covariances=filter.logger.P_i_plus,\n        consider_covariances=filter.logger.P_c_i_plus[:,:8,:8],\n        use_std=True,\n        sigma=2\n    )\n\n    def plot_position_error(filter):\n        plt.figure()\n        plt.semilogy(np.linalg.norm(filter.logger.x_hat_i_plus[:,0:3] - x_original[:,0:3],axis=1), label=r'$\\Delta x$')\n        plt.semilogy(np.linalg.norm(filter.logger.x_hat_c_i_plus[:,0:3] - x_original[:,0:3],axis=1), label=r'$\\Delta x_c$')\n        \n        plt.semilogy(np.linalg.norm(np.diagonal(filter.logger.P_i_plus[:,0:3, 0:3],axis1=1,axis2=2),axis=1), label='$P$')\n        plt.semilogy(np.linalg.norm(np.diagonal(filter.logger.P_c_i_plus[:,0:3, 0:3],axis1=1,axis2=2),axis=1), label='$P_c$')\n        plt.legend()\n\n    plot_position_error(filter)\n\n    #########################\n    ## Back Prop Estimates ##\n    #########################\n\n    end_idx = len(filter.logger.i)-1\n    dx0_new = filter.logger.dx_i_plus[-1]\n    P0_new = filter.logger.P_c_i_plus[-1]\n    N = len(filter.logger.phi_ti_ti_m1[0])\n    M = len(filter.logger.theta_ti_ti_m1[0,0])\n    for i in range(end_idx, 0, -1):\n        phi = filter.logger.phi_ti_ti_m1[i]\n        theta = filter.logger.theta_ti_ti_m1[i]\n        psi = np.block([[phi, theta], [np.zeros((M,N)), np.eye(M)]])\n\n        phi_inv = np.linalg.inv(phi)\n        psi_inv = np.linalg.inv(psi)\n\n        dx0_new = phi_inv@dx0_new\n        P0_new = psi_inv@P0_new@psi_inv.T\n\n    print(f\"dx is {dx0_new}\")\n    print(f\"P0_new is {P0_new}\")\n\n    #############################################\n    ## Propagate the \"corrected\" initial state ##\n    #############################################\n    \n    dx0 = dx0_new\n    P_xx_0 = P0_new[:N,:N]\n    P_cc_0 = P0_new[N:,N:]\n\n    logger = FilterLogger(len(x0), len(t), len(c0))\n    filter = SequentialConsiderCovarianceFilter(t0, x0, dx0, c0, dc0, P_xx_0, P_cc_0, f_dict, h_dict, logger=logger)\n    filter.run(t, Y[:,1:], R_vec, f_args_vec, h_args_vec, h_args_append=c_args)\n\n    #######################\n    ## Map P_cc_0 to t_f ##\n    #######################\n\n    end_idx = len(filter.logger.i)-1\n    dx0_new = filter.logger.dx_i_plus[0]\n    P0_new = filter.logger.P_c_i_plus[0]\n    N = len(filter.logger.phi_ti_ti_m1[0])\n    M = len(filter.logger.theta_ti_ti_m1[0,0])\n    P_c_i = np.zeros_like(filter.logger.P_c_i_plus)\n    P_c_i[0] = P0_new\n    for i in range(1, len(filter.logger.i)):\n        phi = filter.logger.phi_ti_ti_m1[i]\n        theta = filter.logger.theta_ti_ti_m1[i]\n        psi = np.block([[phi, theta], [np.zeros((M,N)), np.eye(M)]])\n        P_c_i[i] = psi@P_c_i[i-1]@psi.T\n\n\n    y_labels = np.array([\"$x$\", \"$y$\", \"$z$\", \"$v_x$\", \"$v_y$\", \"$v_z$\", \"$\\mu$\", \"$J_2$\", \"$J_3$\"])\n    dX_RMS = plot_state_residual_and_covariance_consider(\n        logger.t_i,\n        filter.logger.x_i,\n        x_original[:,:8],\n        y_labels,\n        covariances=None,\n        consider_covariances=P_c_i[:,:8,:8],\n        use_std=False,\n        sigma=2\n    )\n\n    plot_position_error(filter)\n\n\n    plt.show()\n\n\nif __name__ == \"__main__\":\n    main()"
      ]
    }
  ],
  "metadata": {
    "kernelspec": {
      "display_name": "Python 3",
      "language": "python",
      "name": "python3"
    },
    "language_info": {
      "codemirror_mode": {
        "name": "ipython",
        "version": 3
      },
      "file_extension": ".py",
      "mimetype": "text/x-python",
      "name": "python",
      "nbconvert_exporter": "python",
      "pygments_lexer": "ipython3",
      "version": "3.8.2"
    }
  },
  "nbformat": 4,
  "nbformat_minor": 0
}