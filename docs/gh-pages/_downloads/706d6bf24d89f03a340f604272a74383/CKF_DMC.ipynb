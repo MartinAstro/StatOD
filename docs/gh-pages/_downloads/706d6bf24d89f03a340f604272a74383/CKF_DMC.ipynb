{
  "cells": [
    {
      "cell_type": "code",
      "execution_count": null,
      "metadata": {
        "collapsed": false
      },
      "outputs": [],
      "source": [
        "%matplotlib inline"
      ]
    },
    {
      "cell_type": "markdown",
      "metadata": {},
      "source": [
        "\n# Kalman Filter with Dynamic Model Compensation Example\n"
      ]
    },
    {
      "cell_type": "code",
      "execution_count": null,
      "metadata": {
        "collapsed": false
      },
      "outputs": [],
      "source": [
        "import time\nimport pickle\nimport numpy as np\nimport matplotlib.pyplot as plt\nimport StatOD\nfrom StatOD.data import get_measurements\nfrom StatOD.dynamics import dynamics, f_J2, f_J2_DMC, get_Q, get_Q_DMC, process_noise, f_J3\nfrom StatOD.filters import FilterLogger, KalmanFilter\nfrom StatOD.measurements import h_rho_rhod, measurements\nfrom StatOD.visualizations import *\nfrom StatOD.constants import *\n\ndef compute_J3_accelerations(X, mu, R, J3):\n     x = X[:,0]\n     y = X[:,1]\n     z = X[:,2]\n     r_mag = np.linalg.norm(X[:,:3], axis=1)\n     a_J3 = 1/2*J3*(mu/r_mag**2)*(R/r_mag)**3*np.array([\n                                        5*(7*(z/r_mag)**3 - 3*(z/r_mag))*x/r_mag, \n                                        5*(7*(z/r_mag)**3 - 3*(z/r_mag))*y/r_mag, \n                                        3*(1 - 10*(z/r_mag)**2 + 35/3*(z/r_mag)**4)\n                                        ])\n     return a_J3.T\n\n\ndef main():\n    ep = EarthParams()\n    cart_state = np.array([-3515.4903270335103, 8390.716310243395, 4127.627352553683,\n                           -4.357676322178153, -3.3565791387645487, 3.111892927869902])\n                                  \n    t, Y, X_stations_ECI = get_measurements(\"Data/Measurements/range_rangerate_w_J3_w_noise.data\")\n\n    # Decrease scenario length\n    M_end = len(t) // 5\n    t = t[:M_end]\n    Y = Y[:M_end]\n\n    # Initialize state and filter parameters\n    dx0 = np.array([0.1, 0.0, 0.0, 1E-4, 0.0, 0.0]) \n    t0 = 0.0\n\n    q = 1E-10\n    Q0 = np.eye(3) * q ** 2\n    P = 9952.014054236302  #orbit period\n    tau = P / 10\n\n    # Augment with DMC\n    t0 = 0.0\n\n    w0 = np.array([0, 0, 0]) \n    dw0 = np.array([0, 0, 0])\n\n    Z0 = np.hstack((cart_state, w0))\n    dZ0 = np.hstack((dx0, dw0))\n    Z0 += dZ0\n\n    sigma_r = 1**2  # km ^2\n    sigma_r_dot = (1E-3) ** 2\n    sigma_w = (1E-7) ** 2\n\n    P_diag = np.array(\n        [sigma_r, sigma_r, sigma_r, \n         sigma_r_dot, sigma_r_dot, sigma_r_dot,\n         sigma_w, sigma_w, sigma_w]\n    )\n    R_diag = np.array([1e-3, 1e-6]) ** 2\n\n    P0 = np.diag(P_diag)\n    R0 = np.diag(R_diag)\n    \n    # Initialize\n    f_args = np.array([ep.R, ep.mu, ep.J2, tau])\n    f, dfdx = dynamics(Z0, f_J2_DMC, f_args)\n\n    Q_args = np.array([tau,])\n    Q_fcn = process_noise(Z0, Q0, get_Q_DMC, Q_args, use_numba=False)\n    f_dict = {\n        \"f\": f,\n        \"dfdx\": dfdx,\n        \"f_args\": f_args,\n        \"Q_fcn\": Q_fcn,\n        \"Q\": Q0,\n        \"Q_args\": Q_args,\n    }\n\n    h_args = cart_state\n    h, dhdx = measurements(Z0, h_rho_rhod, h_args)\n    h_dict = {\"h\": h, \"dhdx\": dhdx, \"h_args\": h_args}\n\n\n    #########################\n    # Generate f/h_args_vec #\n    #########################\n\n    f_args_vec = np.full((len(t), len(f_args)), f_args)\n    h_args_vec = X_stations_ECI\n    R_vec = np.repeat(np.array([R0]), len(t), axis=0)\n\n    ##############\n    # Run Filter #\n    ##############\n\n    start_time = time.time()\n    state_labels = np.array([\n        \"$x$\", \"$y$\", \"$z$\", \n        \"$v_x$\", \"$v_y$\", \"$v_z$\",  \n        \"$a_{J3,x}$\", \"$a_{J3,y}$\", \"$a_{J3,z}$\"\n        ])\n    logger = FilterLogger(len(Z0), len(t), state_labels=state_labels)\n    filter = KalmanFilter(t0, Z0, dZ0, P0, f_dict, h_dict, logger=logger)\n    filter.run(t, Y[:,1:], R_vec, f_args_vec, h_args_vec)\n    print(\"Time Elapsed: \" + str(time.time() - start_time))\n\n    ############\n    # Plotting #\n    ############\n\n    package_dir = os.path.dirname(StatOD.__file__) + \"/../\"\n    with open(package_dir + 'Data/Trajectories/trajectory_J3.data', 'rb') as f:\n        traj_data = pickle.load(f)\n\n    x_truth = traj_data['X'][:M_end]\n\n    # Measurement residuals\n    y_hat = np.zeros((len(t), 2))\n    for i in range(len(t)):\n        y_hat[i] = filter.predict_measurement(logger.x_i[i], logger.dx_i_plus[i], h_args_vec[i])\n\n    # state error\n    a_vec = compute_J3_accelerations(filter.logger.x_hat_i_plus[:,:6], ep.mu, ep.R, ep.J3)\n    Z_truth = np.hstack((x_truth[:M_end], a_vec))\n\n    directory = \"Plots/\" + filter.__class__.__name__ + \"/\"\n    y_labels = np.array([r'$\\rho$', r'$\\dot{\\rho}$'])\n    vis = VisualizationBase(logger, directory, False)\n    vis.plot_residuals(Y[:,1:], y_hat, R_vec, y_labels)\n    vis.plot_state_errors(Z_truth)\n\n    plt.show()\n\nif __name__ == \"__main__\":\n    main()"
      ]
    }
  ],
  "metadata": {
    "kernelspec": {
      "display_name": "Python 3",
      "language": "python",
      "name": "python3"
    },
    "language_info": {
      "codemirror_mode": {
        "name": "ipython",
        "version": 3
      },
      "file_extension": ".py",
      "mimetype": "text/x-python",
      "name": "python",
      "nbconvert_exporter": "python",
      "pygments_lexer": "ipython3",
      "version": "3.8.2"
    }
  },
  "nbformat": 4,
  "nbformat_minor": 0
}